{
  "nbformat": 4,
  "nbformat_minor": 0,
  "metadata": {
    "colab": {
      "name": "PythonBeginnerPlay.ipynb",
      "provenance": [],
      "authorship_tag": "ABX9TyPsjToVn6o9uoexM0glLVrc",
      "include_colab_link": true
    },
    "kernelspec": {
      "name": "python3",
      "display_name": "Python 3"
    }
  },
  "cells": [
    {
      "cell_type": "markdown",
      "metadata": {
        "id": "view-in-github",
        "colab_type": "text"
      },
      "source": [
        "<a href=\"https://colab.research.google.com/github/rohans1029/pythonPlayground/blob/master/PythonBeginnerPlay.ipynb\" target=\"_parent\"><img src=\"https://colab.research.google.com/assets/colab-badge.svg\" alt=\"Open In Colab\"/></a>"
      ]
    },
    {
      "cell_type": "markdown",
      "metadata": {
        "id": "V8ERe4JhhqOI",
        "colab_type": "text"
      },
      "source": [
        "# Preface\n"
      ]
    },
    {
      "cell_type": "markdown",
      "metadata": {
        "id": "JO4qCefGhupp",
        "colab_type": "text"
      },
      "source": [
        "This python jupyter notebook is on google colab and is what I will use to play aorund and learn python[link text](https://)"
      ]
    },
    {
      "cell_type": "code",
      "metadata": {
        "id": "bfGZvmzg9LVW",
        "colab_type": "code",
        "outputId": "4ad171db-9a3d-4510-e9bb-4bca80a67d8b",
        "colab": {
          "base_uri": "https://localhost:8080/",
          "height": 35
        }
      },
      "source": [
        "x = 6 \n",
        "print(x)"
      ],
      "execution_count": 0,
      "outputs": [
        {
          "output_type": "stream",
          "text": [
            "6\n"
          ],
          "name": "stdout"
        }
      ]
    },
    {
      "cell_type": "code",
      "metadata": {
        "id": "m4C0Hb7H9mEi",
        "colab_type": "code",
        "colab": {}
      },
      "source": [
        "myArray = [6, 7, 5, 4, 2, 3] \n",
        "for y in myArray: \n",
        "  print(y)"
      ],
      "execution_count": 0,
      "outputs": []
    },
    {
      "cell_type": "markdown",
      "metadata": {
        "id": "1WX7ry6D-JHv",
        "colab_type": "text"
      },
      "source": [
        "I will now show a bubble sort in Python\n"
      ]
    },
    {
      "cell_type": "code",
      "metadata": {
        "id": "CflFZAlO-OhT",
        "colab_type": "code",
        "outputId": "cbdcf212-63a2-425a-e15e-7873590fac8f",
        "colab": {
          "base_uri": "https://localhost:8080/",
          "height": 132
        }
      },
      "source": [
        "# First crate driver (like main method) \n",
        "roArray = [48, 56, 38, 27, 45]\n",
        " \n",
        "#call the bubble sort method\n",
        "bubbleSort(roArray)\n",
        " \n",
        "def bubblesort(roArray)\n",
        "    n = len(arr)\n",
        "    # Traverse through all array elements\n",
        "    for i in range(n):\n",
        " \n",
        "        # Last i elements are already in place\n",
        "        for j in range(0, n-i-1):\n",
        " \n",
        "            # traverse the array from 0 to n-i-1\n",
        "            # Swap if the element found is greater\n",
        "            # than the next element\n",
        "            if arr[j] > arr[j+1] :\n",
        "                arr[j], arr[j+1] = arr[j+1], arr[j] \n",
        "\n",
        "#print the sorted array \n",
        "print (\"Sorted array:\")\n",
        "for i in range(len(roArray)):\n",
        "    print (\"%d\" %roArray[i]), \n",
        "\n"
      ],
      "execution_count": 0,
      "outputs": [
        {
          "output_type": "error",
          "ename": "SyntaxError",
          "evalue": "ignored",
          "traceback": [
            "\u001b[0;36m  File \u001b[0;32m\"<ipython-input-11-de41760c4326>\"\u001b[0;36m, line \u001b[0;32m6\u001b[0m\n\u001b[0;31m    def bubblesort(roArray)\u001b[0m\n\u001b[0m                           ^\u001b[0m\n\u001b[0;31mSyntaxError\u001b[0m\u001b[0;31m:\u001b[0m invalid syntax\n"
          ]
        }
      ]
    },
    {
      "cell_type": "markdown",
      "metadata": {
        "id": "QJPPvhKM-qzJ",
        "colab_type": "text"
      },
      "source": [
        "Now define bubble sort method\n"
      ]
    },
    {
      "cell_type": "code",
      "metadata": {
        "id": "MabYTYC1-u5P",
        "colab_type": "code",
        "outputId": "86a5e7ff-9a00-4a9d-f1d1-f9785f48f321",
        "colab": {
          "base_uri": "https://localhost:8080/",
          "height": 132
        }
      },
      "source": [
        "def bubblesort(roArray) \n",
        "    n = len(arr)\n",
        "    # Traverse through all array elements\n",
        "    for i in range(n):\n",
        " \n",
        "        # Last i elements are already in place\n",
        "        for j in range(0, n-i-1):\n",
        " \n",
        "            # traverse the array from 0 to n-i-1\n",
        "            # Swap if the element found is greater\n",
        "            # than the next element\n",
        "            if arr[j] > arr[j+1] :\n",
        "                arr[j], arr[j+1] = arr[j+1], arr[j]"
      ],
      "execution_count": 0,
      "outputs": [
        {
          "output_type": "error",
          "ename": "SyntaxError",
          "evalue": "ignored",
          "traceback": [
            "\u001b[0;36m  File \u001b[0;32m\"<ipython-input-8-19b00da9d659>\"\u001b[0;36m, line \u001b[0;32m1\u001b[0m\n\u001b[0;31m    def bubblesort(roArray)\u001b[0m\n\u001b[0m                            ^\u001b[0m\n\u001b[0;31mSyntaxError\u001b[0m\u001b[0;31m:\u001b[0m invalid syntax\n"
          ]
        }
      ]
    }
  ]
}